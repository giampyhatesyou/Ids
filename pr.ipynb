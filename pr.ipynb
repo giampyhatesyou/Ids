{
 "cells": [
  {
   "cell_type": "markdown",
   "metadata": {},
   "source": [
    "<h1>Titolo</h1>\n",
    "<h2>Studio di cose che faremo</h2>"
   ]
  },
  {
   "cell_type": "code",
   "execution_count": 73,
   "metadata": {},
   "outputs": [
    {
     "name": "stdout",
     "output_type": "stream",
     "text": [
      "<class 'pandas.core.frame.DataFrame'>\n",
      "RangeIndex: 9837 entries, 0 to 9836\n",
      "Data columns (total 9 columns):\n",
      " #   Column             Non-Null Count  Dtype  \n",
      "---  ------             --------------  -----  \n",
      " 0   Release_Date       9837 non-null   object \n",
      " 1   Title              9828 non-null   object \n",
      " 2   Overview           9828 non-null   object \n",
      " 3   Popularity         9827 non-null   float64\n",
      " 4   Vote_Count         9827 non-null   object \n",
      " 5   Vote_Average       9827 non-null   object \n",
      " 6   Original_Language  9827 non-null   object \n",
      " 7   Genre              9826 non-null   object \n",
      " 8   Poster_Url         9826 non-null   object \n",
      "dtypes: float64(1), object(8)\n",
      "memory usage: 691.8+ KB\n"
     ]
    }
   ],
   "source": [
    "#importiamo le librerie necessarie\n",
    "import numpy as np\n",
    "import matplotlib.pyplot as plt\n",
    "import pandas as pd\n",
    "import seaborn as sns\n",
    "\n",
    "#importiamo il dataset\n",
    "dataset = pd.read_csv('mymoviedb.csv', lineterminator='\\n')\n",
    "\n",
    "#visualizziamo il dataset a livello strutturale\n",
    "dataset.info()"
   ]
  },
  {
   "cell_type": "code",
   "execution_count": 74,
   "metadata": {},
   "outputs": [
    {
     "data": {
      "text/html": [
       "<div>\n",
       "<style scoped>\n",
       "    .dataframe tbody tr th:only-of-type {\n",
       "        vertical-align: middle;\n",
       "    }\n",
       "\n",
       "    .dataframe tbody tr th {\n",
       "        vertical-align: top;\n",
       "    }\n",
       "\n",
       "    .dataframe thead th {\n",
       "        text-align: right;\n",
       "    }\n",
       "</style>\n",
       "<table border=\"1\" class=\"dataframe\">\n",
       "  <thead>\n",
       "    <tr style=\"text-align: right;\">\n",
       "      <th></th>\n",
       "      <th>Release_Date</th>\n",
       "      <th>Title</th>\n",
       "      <th>Overview</th>\n",
       "      <th>Popularity</th>\n",
       "      <th>Vote_Count</th>\n",
       "      <th>Vote_Average</th>\n",
       "      <th>Original_Language</th>\n",
       "      <th>Genre</th>\n",
       "      <th>Poster_Url</th>\n",
       "    </tr>\n",
       "  </thead>\n",
       "  <tbody>\n",
       "    <tr>\n",
       "      <th>0</th>\n",
       "      <td>2021-12-15</td>\n",
       "      <td>Spider-Man: No Way Home</td>\n",
       "      <td>Peter Parker is unmasked and no longer able to...</td>\n",
       "      <td>5083.954</td>\n",
       "      <td>8940</td>\n",
       "      <td>8.3</td>\n",
       "      <td>en</td>\n",
       "      <td>Action, Adventure, Science Fiction</td>\n",
       "      <td>https://image.tmdb.org/t/p/original/1g0dhYtq4i...</td>\n",
       "    </tr>\n",
       "    <tr>\n",
       "      <th>1</th>\n",
       "      <td>2022-03-01</td>\n",
       "      <td>The Batman</td>\n",
       "      <td>In his second year of fighting crime, Batman u...</td>\n",
       "      <td>3827.658</td>\n",
       "      <td>1151</td>\n",
       "      <td>8.1</td>\n",
       "      <td>en</td>\n",
       "      <td>Crime, Mystery, Thriller</td>\n",
       "      <td>https://image.tmdb.org/t/p/original/74xTEgt7R3...</td>\n",
       "    </tr>\n",
       "    <tr>\n",
       "      <th>2</th>\n",
       "      <td>2022-02-25</td>\n",
       "      <td>No Exit</td>\n",
       "      <td>Stranded at a rest stop in the mountains durin...</td>\n",
       "      <td>2618.087</td>\n",
       "      <td>122</td>\n",
       "      <td>6.3</td>\n",
       "      <td>en</td>\n",
       "      <td>Thriller</td>\n",
       "      <td>https://image.tmdb.org/t/p/original/vDHsLnOWKl...</td>\n",
       "    </tr>\n",
       "    <tr>\n",
       "      <th>3</th>\n",
       "      <td>2021-11-24</td>\n",
       "      <td>Encanto</td>\n",
       "      <td>The tale of an extraordinary family, the Madri...</td>\n",
       "      <td>2402.201</td>\n",
       "      <td>5076</td>\n",
       "      <td>7.7</td>\n",
       "      <td>en</td>\n",
       "      <td>Animation, Comedy, Family, Fantasy</td>\n",
       "      <td>https://image.tmdb.org/t/p/original/4j0PNHkMr5...</td>\n",
       "    </tr>\n",
       "    <tr>\n",
       "      <th>4</th>\n",
       "      <td>2021-12-22</td>\n",
       "      <td>The King's Man</td>\n",
       "      <td>As a collection of history's worst tyrants and...</td>\n",
       "      <td>1895.511</td>\n",
       "      <td>1793</td>\n",
       "      <td>7.0</td>\n",
       "      <td>en</td>\n",
       "      <td>Action, Adventure, Thriller, War</td>\n",
       "      <td>https://image.tmdb.org/t/p/original/aq4Pwv5Xeu...</td>\n",
       "    </tr>\n",
       "  </tbody>\n",
       "</table>\n",
       "</div>"
      ],
      "text/plain": [
       "  Release_Date                    Title  \\\n",
       "0   2021-12-15  Spider-Man: No Way Home   \n",
       "1   2022-03-01               The Batman   \n",
       "2   2022-02-25                  No Exit   \n",
       "3   2021-11-24                  Encanto   \n",
       "4   2021-12-22           The King's Man   \n",
       "\n",
       "                                            Overview  Popularity Vote_Count  \\\n",
       "0  Peter Parker is unmasked and no longer able to...    5083.954       8940   \n",
       "1  In his second year of fighting crime, Batman u...    3827.658       1151   \n",
       "2  Stranded at a rest stop in the mountains durin...    2618.087        122   \n",
       "3  The tale of an extraordinary family, the Madri...    2402.201       5076   \n",
       "4  As a collection of history's worst tyrants and...    1895.511       1793   \n",
       "\n",
       "  Vote_Average Original_Language                               Genre  \\\n",
       "0          8.3                en  Action, Adventure, Science Fiction   \n",
       "1          8.1                en            Crime, Mystery, Thriller   \n",
       "2          6.3                en                            Thriller   \n",
       "3          7.7                en  Animation, Comedy, Family, Fantasy   \n",
       "4          7.0                en    Action, Adventure, Thriller, War   \n",
       "\n",
       "                                          Poster_Url  \n",
       "0  https://image.tmdb.org/t/p/original/1g0dhYtq4i...  \n",
       "1  https://image.tmdb.org/t/p/original/74xTEgt7R3...  \n",
       "2  https://image.tmdb.org/t/p/original/vDHsLnOWKl...  \n",
       "3  https://image.tmdb.org/t/p/original/4j0PNHkMr5...  \n",
       "4  https://image.tmdb.org/t/p/original/aq4Pwv5Xeu...  "
      ]
     },
     "execution_count": 74,
     "metadata": {},
     "output_type": "execute_result"
    }
   ],
   "source": [
    "#visualizziamo le prime righe del dataset per avere una visione più pratica\n",
    "dataset.head()"
   ]
  },
  {
   "cell_type": "code",
   "execution_count": 75,
   "metadata": {},
   "outputs": [
    {
     "data": {
      "text/plain": [
       "Release_Date          object\n",
       "Title                 object\n",
       "Overview              object\n",
       "Popularity           float64\n",
       "Vote_Count            object\n",
       "Vote_Average          object\n",
       "Original_Language     object\n",
       "Genre                 object\n",
       "Poster_Url            object\n",
       "dtype: object"
      ]
     },
     "execution_count": 75,
     "metadata": {},
     "output_type": "execute_result"
    }
   ],
   "source": [
    "#vediamo i datatype delle colonne\n",
    "dataset.dtypes"
   ]
  },
  {
   "cell_type": "markdown",
   "metadata": {},
   "source": [
    "<h2>Pulizia del dataset</h2>"
   ]
  },
  {
   "cell_type": "code",
   "execution_count": 76,
   "metadata": {},
   "outputs": [
    {
     "data": {
      "text/plain": [
       "Release_Date          0\n",
       "Title                 9\n",
       "Overview              9\n",
       "Popularity           10\n",
       "Vote_Count           10\n",
       "Vote_Average         10\n",
       "Original_Language    10\n",
       "Genre                11\n",
       "Poster_Url           11\n",
       "dtype: int64"
      ]
     },
     "execution_count": 76,
     "metadata": {},
     "output_type": "execute_result"
    }
   ],
   "source": [
    "#troviamo i valori nulli nel dataset\n",
    "dataset.isnull().sum()"
   ]
  },
  {
   "cell_type": "code",
   "execution_count": 77,
   "metadata": {},
   "outputs": [
    {
     "data": {
      "text/plain": [
       "Release_Date         0\n",
       "Title                0\n",
       "Overview             0\n",
       "Popularity           1\n",
       "Vote_Count           1\n",
       "Vote_Average         1\n",
       "Original_Language    1\n",
       "Genre                2\n",
       "Poster_Url           2\n",
       "dtype: int64"
      ]
     },
     "execution_count": 77,
     "metadata": {},
     "output_type": "execute_result"
    }
   ],
   "source": [
    "#eliminiamo i valori nulli di \"title\" \n",
    "dataset = dataset.dropna(subset=['Title'])\n",
    "#visualizziamo le modifiche\n",
    "dataset.isnull().sum()"
   ]
  },
  {
   "cell_type": "markdown",
   "metadata": {},
   "source": [
    "Abbiamo notato che i valori nulli sono scesi drasticamente perchè tutti legati alle righe con titoli nulli. Ora, dato che rimangono poche righe con valori nulli, riteniamo sia legittimo rimuoverle direttamente perchè poco influenti "
   ]
  },
  {
   "cell_type": "code",
   "execution_count": 78,
   "metadata": {},
   "outputs": [],
   "source": [
    "#Quindi adesso togliamo le righe con valori nulli\n",
    "dataset = dataset.dropna()\n"
   ]
  },
  {
   "cell_type": "markdown",
   "metadata": {},
   "source": [
    "Adesso controlliamo se ci sono valori duplicati e nel caso li eliminiamo "
   ]
  },
  {
   "cell_type": "code",
   "execution_count": 79,
   "metadata": {},
   "outputs": [
    {
     "data": {
      "text/plain": [
       "0"
      ]
     },
     "execution_count": 79,
     "metadata": {},
     "output_type": "execute_result"
    }
   ],
   "source": [
    "#controlliamo se ci sono valori duplicati\n",
    "dataset.duplicated().sum()"
   ]
  },
  {
   "cell_type": "markdown",
   "metadata": {},
   "source": [
    "Come possiamo vedere, non sono presenti valori duplicati"
   ]
  },
  {
   "cell_type": "code",
   "execution_count": 80,
   "metadata": {},
   "outputs": [
    {
     "data": {
      "text/plain": [
       "Release_Date          object\n",
       "Title                 object\n",
       "Overview              object\n",
       "Popularity           float64\n",
       "Vote_Count             int32\n",
       "Vote_Average         float64\n",
       "Original_Language     object\n",
       "Genre                 object\n",
       "Poster_Url            object\n",
       "dtype: object"
      ]
     },
     "execution_count": 80,
     "metadata": {},
     "output_type": "execute_result"
    }
   ],
   "source": [
    "#convertiamo il datatype di 'Vote_count e 'Vote_average' in float, per poter visualizzarli con describe\n",
    "dataset['Vote_Count'] = dataset['Vote_Count'].astype(int, copy=False)\n",
    "dataset['Vote_Average'] = dataset['Vote_Average'].astype(float, copy=False)\n",
    "dataset.describe()\n",
    "dataset.dtypes"
   ]
  },
  {
   "cell_type": "markdown",
   "metadata": {},
   "source": [
    "<h3>Andiamo vedere il range temporale in cui sono stati pubblicati i film"
   ]
  },
  {
   "cell_type": "code",
   "execution_count": 81,
   "metadata": {},
   "outputs": [
    {
     "name": "stdout",
     "output_type": "stream",
     "text": [
      "Il film meno recente è: A Trip to the Moon , uscito il 1902-04-17\n",
      "Il film più recente è: Despicable Me 4 , uscito il 2024-07-03\n"
     ]
    },
    {
     "data": {
      "text/plain": [
       "Release_Date         datetime64[ns]\n",
       "Title                        object\n",
       "Overview                     object\n",
       "Popularity                  float64\n",
       "Vote_Count                    int32\n",
       "Vote_Average                float64\n",
       "Original_Language            object\n",
       "Genre                        object\n",
       "Poster_Url                   object\n",
       "dtype: object"
      ]
     },
     "execution_count": 81,
     "metadata": {},
     "output_type": "execute_result"
    }
   ],
   "source": [
    "#vediamo il titolo delfilm meno recente e il più recente\n",
    "dataset.Release_Date = pd.to_datetime(dataset.Release_Date)\n",
    "min_date = dataset['Release_Date'].min()\n",
    "max_date = dataset['Release_Date'].max()\n",
    "\n",
    "print('Il film meno recente è:', dataset[dataset['Release_Date'] == min_date]['Title'].values[0], ', uscito il', min_date.date())\n",
    "print('Il film più recente è:', dataset[dataset['Release_Date'] == max_date]['Title'].values[0], ', uscito il', max_date.date())\n",
    "\n",
    "dataset.dtypes"
   ]
  },
  {
   "cell_type": "markdown",
   "metadata": {},
   "source": [
    "Come possiao notare, nel database sono presenti dei film che non sono ancora usciti ma hanno già una data di pubblicazione ufficiale"
   ]
  },
  {
   "cell_type": "markdown",
   "metadata": {},
   "source": [
    "<h2>Visualizzazione dei dati, in cerca di correlazioni</h2>"
   ]
  },
  {
   "cell_type": "code",
   "execution_count": 82,
   "metadata": {},
   "outputs": [
    {
     "data": {
      "image/png": "[encoded data removed]",
      "text/plain": [
       "<Figure size 1500x500 with 1 Axes>"
      ]
     },
     "metadata": {},
     "output_type": "display_data"
    }
   ],
   "source": [
    "#visualizzazione di 'Vote_Average' e 'Vote_Count'\n",
    "pivot = dataset.pivot_table(index='Vote_Average', values='Vote_Count', aggfunc='mean')\n",
    "pivot.plot(kind='bar', figsize=(15, 5))\n",
    "plt.xlabel('Vote_Average')\n",
    "plt.ylabel('Vote_Count')\n",
    "plt.title('Vote_Average vs Vote_Count')\n",
    "plt.show()"
   ]
  },
  {
   "cell_type": "markdown",
   "metadata": {},
   "source": [
    "Per poter quantizzare la popolarità la visuaizziamo a grafico"
   ]
  },
  {
   "cell_type": "code",
   "execution_count": 83,
   "metadata": {},
   "outputs": [
    {
     "data": {
      "image/png": "[encoded data removed]",
      "text/plain": [
       "<Figure size 1500x500 with 1 Axes>"
      ]
     },
     "metadata": {},
     "output_type": "display_data"
    }
   ],
   "source": [
    "#visuallizziamo la distribuzione di 'Popularity'\n",
    "histo = dataset['Popularity'].hist(bins=100, figsize=(15, 5))\n",
    "plt.xlim(0, 200) #limitiamo l'asse y per una migliore visualizzazione\n",
    "plt.xlabel('Popularity')\n",
    "plt.ylabel('Frequency')\n",
    "plt.title('Popularity Distribution')\n",
    "plt.show()"
   ]
  },
  {
   "cell_type": "markdown",
   "metadata": {},
   "source": [
    "Quantizzazione delle date di uscita\n",
    "1. VERY OLD = [1900, 1980]\n",
    "2. OLD = [1981, 2000]\n",
    "3. RECENT = [2001, 2015]\n",
    "4. VERY RECENT = [2016, 2024]\n",
    "\n",
    "Quantizziamo anche i voti\n",
    "1. BAD = [0, 4.9]\n",
    "2. SUFFICIENT = [5, 5.9]\n",
    "3. GOOD = [6, 6.9]\n",
    "4. VERY GOOD = [7, 7.9]\n",
    "5. EXCELLENT = [8, 10]\n",
    "\n",
    "Quantizziamo anche popularity\n",
    "1. NOT POPULAR = [0 ,39.9] \n",
    "2. AVARAGE = [40, 59.9]\n",
    "3. POPULAR = [60, 199.9]\n",
    "4. BLOCKBUSTER = [200, 5084]"
   ]
  },
  {
   "cell_type": "code",
   "execution_count": 84,
   "metadata": {},
   "outputs": [
    {
     "data": {
      "text/plain": [
       "Release_Date         datetime64[ns]\n",
       "Title                        object\n",
       "Overview                     object\n",
       "Popularity                  float64\n",
       "Vote_Count                    int32\n",
       "Vote_Average                float64\n",
       "Original_Language            object\n",
       "Genre                        object\n",
       "Poster_Url                   object\n",
       "dtype: object"
      ]
     },
     "execution_count": 84,
     "metadata": {},
     "output_type": "execute_result"
    }
   ],
   "source": [
    "dataset.dtypes"
   ]
  },
  {
   "cell_type": "code",
   "execution_count": 85,
   "metadata": {},
   "outputs": [
    {
     "name": "stdout",
     "output_type": "stream",
     "text": [
      "0       VERY-RECENT\n",
      "1       VERY-RECENT\n",
      "2       VERY-RECENT\n",
      "3       VERY-RECENT\n",
      "4       VERY-RECENT\n",
      "           ...     \n",
      "9832       VERY OLD\n",
      "9833    VERY-RECENT\n",
      "9834    VERY-RECENT\n",
      "9835    VERY-RECENT\n",
      "9836            OLD\n",
      "Name: Quant_Release_Date, Length: 9826, dtype: object\n"
     ]
    }
   ],
   "source": [
    "\n",
    "quantize_release_date = ['VERY OLD', 'OLD', 'RECENT', 'VERY-RECENT']\n",
    "minimum = [1900, 1981, 2001, 2016]\n",
    "maximum = [1980, 2000, 2015, 2024]\n",
    "\n",
    "dataset.Release_Date = pd.to_datetime(dataset.Release_Date)\n",
    "dataset.dtypes\n",
    "for i in range(4):\n",
    "    dataset.loc[dataset['Release_Date'].dt.year.between(minimum[i], maximum[i]), 'Quant_Release_Date'] = quantize_release_date[i]\n",
    "\n",
    "#visualizziamo la nuova colonna\n",
    "print(dataset['Quant_Release_Date'])\n"
   ]
  },
  {
   "cell_type": "code",
   "execution_count": 86,
   "metadata": {},
   "outputs": [],
   "source": [
    "#Quantizziamo la colonna 'Vote_Average'\n",
    "quantize_vote_average = ['VERY BAD', 'BAD', 'AVERAGE', 'GOOD', 'VERY GOOD']\n",
    "minimum = [0, 5, 6, 7, 8]\n",
    "maximum = [4.9, 5.9, 6.9, 7.9, 10]\n",
    "\n",
    "\n",
    "for i in range(5):\n",
    "    dataset.loc[dataset['Vote_Average'].between(minimum[i], maximum[i]), 'quant_vote_average'] = quantize_vote_average[i]\n"
   ]
  },
  {
   "cell_type": "code",
   "execution_count": 87,
   "metadata": {},
   "outputs": [],
   "source": [
    "#Quantizziamo la colonna 'Popularity'\n",
    "quantize_popularity = ['NOT POPULAR', 'AVARAGE', 'POPULAR', 'BLOCKBUSTER']\n",
    "minimum = [0, 40, 60, 200]\n",
    "maximum = [39.9, 59.9, 199.9, 5084]\n",
    "\n",
    "for i in range(4):\n",
    "    dataset.loc[dataset['Popularity'].between(minimum[i], maximum[i]), 'quant_popularity'] = quantize_popularity[i]\n",
    "    \n"
   ]
  },
  {
   "cell_type": "code",
   "execution_count": 88,
   "metadata": {},
   "outputs": [
    {
     "data": {
      "text/html": [
       "<div>\n",
       "<style scoped>\n",
       "    .dataframe tbody tr th:only-of-type {\n",
       "        vertical-align: middle;\n",
       "    }\n",
       "\n",
       "    .dataframe tbody tr th {\n",
       "        vertical-align: top;\n",
       "    }\n",
       "\n",
       "    .dataframe thead th {\n",
       "        text-align: right;\n",
       "    }\n",
       "</style>\n",
       "<table border=\"1\" class=\"dataframe\">\n",
       "  <thead>\n",
       "    <tr style=\"text-align: right;\">\n",
       "      <th></th>\n",
       "      <th>Release_Date</th>\n",
       "      <th>Popularity</th>\n",
       "      <th>Vote_Count</th>\n",
       "      <th>Vote_Average</th>\n",
       "    </tr>\n",
       "  </thead>\n",
       "  <tbody>\n",
       "    <tr>\n",
       "      <th>count</th>\n",
       "      <td>9826</td>\n",
       "      <td>9826.000000</td>\n",
       "      <td>9826.000000</td>\n",
       "      <td>9826.000000</td>\n",
       "    </tr>\n",
       "    <tr>\n",
       "      <th>mean</th>\n",
       "      <td>2006-09-23 04:47:14.276409600</td>\n",
       "      <td>40.323951</td>\n",
       "      <td>1392.943721</td>\n",
       "      <td>6.439467</td>\n",
       "    </tr>\n",
       "    <tr>\n",
       "      <th>min</th>\n",
       "      <td>1902-04-17 00:00:00</td>\n",
       "      <td>13.354000</td>\n",
       "      <td>0.000000</td>\n",
       "      <td>0.000000</td>\n",
       "    </tr>\n",
       "    <tr>\n",
       "      <th>25%</th>\n",
       "      <td>2000-10-17 12:00:00</td>\n",
       "      <td>16.128250</td>\n",
       "      <td>146.000000</td>\n",
       "      <td>5.900000</td>\n",
       "    </tr>\n",
       "    <tr>\n",
       "      <th>50%</th>\n",
       "      <td>2011-09-12 00:00:00</td>\n",
       "      <td>21.195000</td>\n",
       "      <td>444.000000</td>\n",
       "      <td>6.500000</td>\n",
       "    </tr>\n",
       "    <tr>\n",
       "      <th>75%</th>\n",
       "      <td>2017-11-22 00:00:00</td>\n",
       "      <td>35.179250</td>\n",
       "      <td>1376.000000</td>\n",
       "      <td>7.100000</td>\n",
       "    </tr>\n",
       "    <tr>\n",
       "      <th>max</th>\n",
       "      <td>2024-07-03 00:00:00</td>\n",
       "      <td>5083.954000</td>\n",
       "      <td>31077.000000</td>\n",
       "      <td>10.000000</td>\n",
       "    </tr>\n",
       "    <tr>\n",
       "      <th>std</th>\n",
       "      <td>NaN</td>\n",
       "      <td>108.879332</td>\n",
       "      <td>2611.303856</td>\n",
       "      <td>1.129797</td>\n",
       "    </tr>\n",
       "  </tbody>\n",
       "</table>\n",
       "</div>"
      ],
      "text/plain": [
       "                        Release_Date   Popularity    Vote_Count  Vote_Average\n",
       "count                           9826  9826.000000   9826.000000   9826.000000\n",
       "mean   2006-09-23 04:47:14.276409600    40.323951   1392.943721      6.439467\n",
       "min              1902-04-17 00:00:00    13.354000      0.000000      0.000000\n",
       "25%              2000-10-17 12:00:00    16.128250    146.000000      5.900000\n",
       "50%              2011-09-12 00:00:00    21.195000    444.000000      6.500000\n",
       "75%              2017-11-22 00:00:00    35.179250   1376.000000      7.100000\n",
       "max              2024-07-03 00:00:00  5083.954000  31077.000000     10.000000\n",
       "std                              NaN   108.879332   2611.303856      1.129797"
      ]
     },
     "execution_count": 88,
     "metadata": {},
     "output_type": "execute_result"
    }
   ],
   "source": [
    "#rimuoviamo le colonne 'Vote_Average', 'Vote_Count', 'Popularity' e 'Poster_Url'\n",
    "#dataset = dataset.drop(['Vote_Average', 'Vote_Count', 'Popularity', 'Poster_Url', 'Overview'], axis=1)\n",
    "dataset.describe()"
   ]
  }
 ],
 "metadata": {
  "kernelspec": {
   "display_name": "base",
   "language": "python",
   "name": "python3"
  },
  "language_info": {
   "codemirror_mode": {
    "name": "ipython",
    "version": 3
   },
   "file_extension": ".py",
   "mimetype": "text/x-python",
   "name": "python",
   "nbconvert_exporter": "python",
   "pygments_lexer": "ipython3",
   "version": "3.11.7"
  }
 },
 "nbformat": 4,
 "nbformat_minor": 2
}
